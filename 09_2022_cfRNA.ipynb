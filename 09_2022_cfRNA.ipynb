{
  "nbformat": 4,
  "nbformat_minor": 0,
  "metadata": {
    "colab": {
      "provenance": [],
      "collapsed_sections": [],
      "toc_visible": true,
      "mount_file_id": "1uMQDLZCdyjmeJqfWjd_KXS_09RZ_CCmA",
      "authorship_tag": "ABX9TyOgkZxVJhnOXDCKp+qiDVTb",
      "include_colab_link": true
    },
    "kernelspec": {
      "name": "python3",
      "display_name": "Python 3"
    },
    "language_info": {
      "name": "python"
    }
  },
  "cells": [
    {
      "cell_type": "markdown",
      "metadata": {
        "id": "view-in-github",
        "colab_type": "text"
      },
      "source": [
        "<a href=\"https://colab.research.google.com/github/shengqin/20181008_Bioinformatics-Tools/blob/master/09_2022_cfRNA.ipynb\" target=\"_parent\"><img src=\"https://colab.research.google.com/assets/colab-badge.svg\" alt=\"Open In Colab\"/></a>"
      ]
    },
    {
      "cell_type": "code",
      "execution_count": null,
      "metadata": {
        "id": "hJDA--IscJ81"
      },
      "outputs": [],
      "source": [
        "import pandas as pd\n",
        "import re\n",
        "import string"
      ]
    },
    {
      "cell_type": "code",
      "source": [
        "count = pd.read_csv(filepath_or_buffer='/content/drive/Othercomputers/My MacBook Pro/07-2022_SQ_HR/Stanford/Research/CIRCE_Project/data/cfrnamatrix_allgenes_ensemble_rawcount.txt', sep = \"\\t\")\n",
        "count = count[count.columns.drop(list(count.filter(regex='.10d|.fd|.30')))]\n",
        "count.columns = [pname.replace(\".10\",\"_cfRNA\").replace(\".f\",\"_PBMC\") for pname in list(count)]"
      ],
      "metadata": {
        "id": "E-ghGdPYceGu"
      },
      "execution_count": null,
      "outputs": []
    },
    {
      "cell_type": "code",
      "source": [
        "# Keep rows with mean read counts >10\n",
        "count_filtered = count[count.iloc[:, 1:].sum(axis=1)/(len(count.columns)-1) > 10]\n",
        "count_filtered['gene'] = count_filtered['gene'].str.split('.').str[0]"
      ],
      "metadata": {
        "colab": {
          "base_uri": "https://localhost:8080/"
        },
        "id": "rajrKo6hNI7r",
        "outputId": "6338a4e1-244c-4ee4-fd9e-b51793b9b1bf"
      },
      "execution_count": null,
      "outputs": [
        {
          "output_type": "stream",
          "name": "stderr",
          "text": [
            "/usr/local/lib/python3.7/dist-packages/ipykernel_launcher.py:3: SettingWithCopyWarning: \n",
            "A value is trying to be set on a copy of a slice from a DataFrame.\n",
            "Try using .loc[row_indexer,col_indexer] = value instead\n",
            "\n",
            "See the caveats in the documentation: https://pandas.pydata.org/pandas-docs/stable/user_guide/indexing.html#returning-a-view-versus-a-copy\n",
            "  This is separate from the ipykernel package so we can avoid doing imports until\n"
          ]
        }
      ]
    },
    {
      "cell_type": "code",
      "source": [
        "count_filtered.to_csv(\"/content/drive/Othercomputers/My MacBook Pro/07-2022_SQ_HR/Stanford/Research/CIRCE_Project/data/cfrnamatrix_rawcount_filtered.csv\", index=False)"
      ],
      "metadata": {
        "id": "5OdEcE3YQN_9"
      },
      "execution_count": null,
      "outputs": []
    },
    {
      "cell_type": "code",
      "source": [
        "count_filtered"
      ],
      "metadata": {
        "colab": {
          "base_uri": "https://localhost:8080/",
          "height": 424
        },
        "id": "ihChVI2mN7Wy",
        "outputId": "b9576d49-2144-446e-afce-049d2de7a3e0"
      },
      "execution_count": null,
      "outputs": [
        {
          "output_type": "execute_result",
          "data": {
            "text/plain": [
              "                  gene  CTR93_cfRNA  CTR93_PBMC  CTR94_cfRNA  CTR94_PBMC  \\\n",
              "2      ENSG00000000419          132          69           33          32   \n",
              "3      ENSG00000000457          118          62           29          21   \n",
              "4      ENSG00000000460           92         152           79         104   \n",
              "5      ENSG00000000938         1522         627          379         171   \n",
              "6      ENSG00000000971           40          14            5           0   \n",
              "...                ...          ...         ...          ...         ...   \n",
              "19969  ENSG00000281028           77         107           33          30   \n",
              "19975  ENSG00000281887          428         112           89          12   \n",
              "19978  ENSG00000282034          242          90            8          21   \n",
              "19981  ENSG00000282278          220         404          109         149   \n",
              "19990  ENSG00000282988          913         567          309         273   \n",
              "\n",
              "       CTR95_cfRNA  CTR95_PBMC  CTR96_cfRNA  CTR96_PBMC  \n",
              "2               94          41           60         120  \n",
              "3               75          48           70         120  \n",
              "4              110          63          162         415  \n",
              "5              709         381          881         851  \n",
              "6               22           5            8           5  \n",
              "...            ...         ...          ...         ...  \n",
              "19969           62          45           63         127  \n",
              "19975          202          96          146         173  \n",
              "19978          154         105            0           0  \n",
              "19981          274         257          668        2246  \n",
              "19990          778         536         1263        2984  \n",
              "\n",
              "[11720 rows x 9 columns]"
            ],
            "text/html": [
              "\n",
              "  <div id=\"df-9beeaca1-2671-44ab-93c8-2bd7169b44b4\">\n",
              "    <div class=\"colab-df-container\">\n",
              "      <div>\n",
              "<style scoped>\n",
              "    .dataframe tbody tr th:only-of-type {\n",
              "        vertical-align: middle;\n",
              "    }\n",
              "\n",
              "    .dataframe tbody tr th {\n",
              "        vertical-align: top;\n",
              "    }\n",
              "\n",
              "    .dataframe thead th {\n",
              "        text-align: right;\n",
              "    }\n",
              "</style>\n",
              "<table border=\"1\" class=\"dataframe\">\n",
              "  <thead>\n",
              "    <tr style=\"text-align: right;\">\n",
              "      <th></th>\n",
              "      <th>gene</th>\n",
              "      <th>CTR93_cfRNA</th>\n",
              "      <th>CTR93_PBMC</th>\n",
              "      <th>CTR94_cfRNA</th>\n",
              "      <th>CTR94_PBMC</th>\n",
              "      <th>CTR95_cfRNA</th>\n",
              "      <th>CTR95_PBMC</th>\n",
              "      <th>CTR96_cfRNA</th>\n",
              "      <th>CTR96_PBMC</th>\n",
              "    </tr>\n",
              "  </thead>\n",
              "  <tbody>\n",
              "    <tr>\n",
              "      <th>2</th>\n",
              "      <td>ENSG00000000419</td>\n",
              "      <td>132</td>\n",
              "      <td>69</td>\n",
              "      <td>33</td>\n",
              "      <td>32</td>\n",
              "      <td>94</td>\n",
              "      <td>41</td>\n",
              "      <td>60</td>\n",
              "      <td>120</td>\n",
              "    </tr>\n",
              "    <tr>\n",
              "      <th>3</th>\n",
              "      <td>ENSG00000000457</td>\n",
              "      <td>118</td>\n",
              "      <td>62</td>\n",
              "      <td>29</td>\n",
              "      <td>21</td>\n",
              "      <td>75</td>\n",
              "      <td>48</td>\n",
              "      <td>70</td>\n",
              "      <td>120</td>\n",
              "    </tr>\n",
              "    <tr>\n",
              "      <th>4</th>\n",
              "      <td>ENSG00000000460</td>\n",
              "      <td>92</td>\n",
              "      <td>152</td>\n",
              "      <td>79</td>\n",
              "      <td>104</td>\n",
              "      <td>110</td>\n",
              "      <td>63</td>\n",
              "      <td>162</td>\n",
              "      <td>415</td>\n",
              "    </tr>\n",
              "    <tr>\n",
              "      <th>5</th>\n",
              "      <td>ENSG00000000938</td>\n",
              "      <td>1522</td>\n",
              "      <td>627</td>\n",
              "      <td>379</td>\n",
              "      <td>171</td>\n",
              "      <td>709</td>\n",
              "      <td>381</td>\n",
              "      <td>881</td>\n",
              "      <td>851</td>\n",
              "    </tr>\n",
              "    <tr>\n",
              "      <th>6</th>\n",
              "      <td>ENSG00000000971</td>\n",
              "      <td>40</td>\n",
              "      <td>14</td>\n",
              "      <td>5</td>\n",
              "      <td>0</td>\n",
              "      <td>22</td>\n",
              "      <td>5</td>\n",
              "      <td>8</td>\n",
              "      <td>5</td>\n",
              "    </tr>\n",
              "    <tr>\n",
              "      <th>...</th>\n",
              "      <td>...</td>\n",
              "      <td>...</td>\n",
              "      <td>...</td>\n",
              "      <td>...</td>\n",
              "      <td>...</td>\n",
              "      <td>...</td>\n",
              "      <td>...</td>\n",
              "      <td>...</td>\n",
              "      <td>...</td>\n",
              "    </tr>\n",
              "    <tr>\n",
              "      <th>19969</th>\n",
              "      <td>ENSG00000281028</td>\n",
              "      <td>77</td>\n",
              "      <td>107</td>\n",
              "      <td>33</td>\n",
              "      <td>30</td>\n",
              "      <td>62</td>\n",
              "      <td>45</td>\n",
              "      <td>63</td>\n",
              "      <td>127</td>\n",
              "    </tr>\n",
              "    <tr>\n",
              "      <th>19975</th>\n",
              "      <td>ENSG00000281887</td>\n",
              "      <td>428</td>\n",
              "      <td>112</td>\n",
              "      <td>89</td>\n",
              "      <td>12</td>\n",
              "      <td>202</td>\n",
              "      <td>96</td>\n",
              "      <td>146</td>\n",
              "      <td>173</td>\n",
              "    </tr>\n",
              "    <tr>\n",
              "      <th>19978</th>\n",
              "      <td>ENSG00000282034</td>\n",
              "      <td>242</td>\n",
              "      <td>90</td>\n",
              "      <td>8</td>\n",
              "      <td>21</td>\n",
              "      <td>154</td>\n",
              "      <td>105</td>\n",
              "      <td>0</td>\n",
              "      <td>0</td>\n",
              "    </tr>\n",
              "    <tr>\n",
              "      <th>19981</th>\n",
              "      <td>ENSG00000282278</td>\n",
              "      <td>220</td>\n",
              "      <td>404</td>\n",
              "      <td>109</td>\n",
              "      <td>149</td>\n",
              "      <td>274</td>\n",
              "      <td>257</td>\n",
              "      <td>668</td>\n",
              "      <td>2246</td>\n",
              "    </tr>\n",
              "    <tr>\n",
              "      <th>19990</th>\n",
              "      <td>ENSG00000282988</td>\n",
              "      <td>913</td>\n",
              "      <td>567</td>\n",
              "      <td>309</td>\n",
              "      <td>273</td>\n",
              "      <td>778</td>\n",
              "      <td>536</td>\n",
              "      <td>1263</td>\n",
              "      <td>2984</td>\n",
              "    </tr>\n",
              "  </tbody>\n",
              "</table>\n",
              "<p>11720 rows × 9 columns</p>\n",
              "</div>\n",
              "      <button class=\"colab-df-convert\" onclick=\"convertToInteractive('df-9beeaca1-2671-44ab-93c8-2bd7169b44b4')\"\n",
              "              title=\"Convert this dataframe to an interactive table.\"\n",
              "              style=\"display:none;\">\n",
              "        \n",
              "  <svg xmlns=\"http://www.w3.org/2000/svg\" height=\"24px\"viewBox=\"0 0 24 24\"\n",
              "       width=\"24px\">\n",
              "    <path d=\"M0 0h24v24H0V0z\" fill=\"none\"/>\n",
              "    <path d=\"M18.56 5.44l.94 2.06.94-2.06 2.06-.94-2.06-.94-.94-2.06-.94 2.06-2.06.94zm-11 1L8.5 8.5l.94-2.06 2.06-.94-2.06-.94L8.5 2.5l-.94 2.06-2.06.94zm10 10l.94 2.06.94-2.06 2.06-.94-2.06-.94-.94-2.06-.94 2.06-2.06.94z\"/><path d=\"M17.41 7.96l-1.37-1.37c-.4-.4-.92-.59-1.43-.59-.52 0-1.04.2-1.43.59L10.3 9.45l-7.72 7.72c-.78.78-.78 2.05 0 2.83L4 21.41c.39.39.9.59 1.41.59.51 0 1.02-.2 1.41-.59l7.78-7.78 2.81-2.81c.8-.78.8-2.07 0-2.86zM5.41 20L4 18.59l7.72-7.72 1.47 1.35L5.41 20z\"/>\n",
              "  </svg>\n",
              "      </button>\n",
              "      \n",
              "  <style>\n",
              "    .colab-df-container {\n",
              "      display:flex;\n",
              "      flex-wrap:wrap;\n",
              "      gap: 12px;\n",
              "    }\n",
              "\n",
              "    .colab-df-convert {\n",
              "      background-color: #E8F0FE;\n",
              "      border: none;\n",
              "      border-radius: 50%;\n",
              "      cursor: pointer;\n",
              "      display: none;\n",
              "      fill: #1967D2;\n",
              "      height: 32px;\n",
              "      padding: 0 0 0 0;\n",
              "      width: 32px;\n",
              "    }\n",
              "\n",
              "    .colab-df-convert:hover {\n",
              "      background-color: #E2EBFA;\n",
              "      box-shadow: 0px 1px 2px rgba(60, 64, 67, 0.3), 0px 1px 3px 1px rgba(60, 64, 67, 0.15);\n",
              "      fill: #174EA6;\n",
              "    }\n",
              "\n",
              "    [theme=dark] .colab-df-convert {\n",
              "      background-color: #3B4455;\n",
              "      fill: #D2E3FC;\n",
              "    }\n",
              "\n",
              "    [theme=dark] .colab-df-convert:hover {\n",
              "      background-color: #434B5C;\n",
              "      box-shadow: 0px 1px 3px 1px rgba(0, 0, 0, 0.15);\n",
              "      filter: drop-shadow(0px 1px 2px rgba(0, 0, 0, 0.3));\n",
              "      fill: #FFFFFF;\n",
              "    }\n",
              "  </style>\n",
              "\n",
              "      <script>\n",
              "        const buttonEl =\n",
              "          document.querySelector('#df-9beeaca1-2671-44ab-93c8-2bd7169b44b4 button.colab-df-convert');\n",
              "        buttonEl.style.display =\n",
              "          google.colab.kernel.accessAllowed ? 'block' : 'none';\n",
              "\n",
              "        async function convertToInteractive(key) {\n",
              "          const element = document.querySelector('#df-9beeaca1-2671-44ab-93c8-2bd7169b44b4');\n",
              "          const dataTable =\n",
              "            await google.colab.kernel.invokeFunction('convertToInteractive',\n",
              "                                                     [key], {});\n",
              "          if (!dataTable) return;\n",
              "\n",
              "          const docLinkHtml = 'Like what you see? Visit the ' +\n",
              "            '<a target=\"_blank\" href=https://colab.research.google.com/notebooks/data_table.ipynb>data table notebook</a>'\n",
              "            + ' to learn more about interactive tables.';\n",
              "          element.innerHTML = '';\n",
              "          dataTable['output_type'] = 'display_data';\n",
              "          await google.colab.output.renderOutput(dataTable, element);\n",
              "          const docLink = document.createElement('div');\n",
              "          docLink.innerHTML = docLinkHtml;\n",
              "          element.appendChild(docLink);\n",
              "        }\n",
              "      </script>\n",
              "    </div>\n",
              "  </div>\n",
              "  "
            ]
          },
          "metadata": {},
          "execution_count": 5
        }
      ]
    },
    {
      "cell_type": "code",
      "source": [
        "# Get our lab gene list\n",
        "filelocate = \"/content/drive/Othercomputers/My MacBook Pro/07-2022_SQ_HR/Stanford/Research/CIRCE_Project\"\n",
        "count_DESeq_raw = pd.read_csv(filepath_or_buffer= filelocate + '/analysis/09-2022_cfRNAvsPBMC.csv', sep = \",\")\n",
        "count_DESeq_raw.rename(columns={count_DESeq_raw.columns[0]: \"gene\" }, inplace = True)\n",
        "count_DESeq = count_DESeq_raw[(count_DESeq_raw['padj']<= 0.05)]\n",
        "count_DESeq = count_DESeq[(count_DESeq['log2FoldChange']>= 1) | (count_DESeq['log2FoldChange']<= -1 )  ]\n",
        "lab_DEGene = count_DESeq['gene']"
      ],
      "metadata": {
        "id": "fuu67KDEirL1"
      },
      "execution_count": null,
      "outputs": []
    },
    {
      "cell_type": "code",
      "source": [
        "Up_cfRNA = count_DESeq[(count_DESeq['log2FoldChange']>= 1)]['gene']\n",
        "Up_PBMC = count_DESeq[(count_DESeq['log2FoldChange']<= -1)]['gene']\n",
        "Non_DEG = count_DESeq_raw[~count_DESeq_raw['gene'].isin(lab_DEGene)]['gene']"
      ],
      "metadata": {
        "id": "PwnS_fWYroAf"
      },
      "execution_count": null,
      "outputs": []
    },
    {
      "cell_type": "code",
      "source": [
        "print(len(Up_cfRNA),len(Up_PBMC),len(Non_DEG))"
      ],
      "metadata": {
        "colab": {
          "base_uri": "https://localhost:8080/"
        },
        "id": "AKhCwHN-DUDU",
        "outputId": "a9304874-9e76-4eb6-e56f-139f3f47b94a"
      },
      "execution_count": null,
      "outputs": [
        {
          "output_type": "stream",
          "name": "stdout",
          "text": [
            "1008 569 10143\n"
          ]
        }
      ]
    },
    {
      "cell_type": "code",
      "source": [
        "# Get GTEx gene list\n",
        "DEG_Artery = pd.read_csv(filelocate + '/data/DEG_ArteryvsNon_artery_paired.txt', sep = '\\t')\n",
        "DEG_Heart = pd.read_csv(filelocate + '/data/DEG_HeartvsNon_heart_paired.txt', sep = '\\t')\n",
        "DEG_Artery_fted = DEG_Artery[(DEG_Artery['logFC']>= 1) | (DEG_Artery['logFC']<= -1) & (DEG_Artery['adj.P.Val']<= 0.05)]\n",
        "DEG_Heart_fted = DEG_Heart[(DEG_Heart['logFC']>= 1) | (DEG_Heart['logFC']<= -1) & (DEG_Heart['adj.P.Val']<= 0.05)]\n",
        "GTEx_Heart_DEGene = DEG_Heart_fted['Gene']\n",
        "GTEx_Artery_DEGene = DEG_Artery_fted['Gene']"
      ],
      "metadata": {
        "id": "G8SNH38Xq25h"
      },
      "execution_count": null,
      "outputs": []
    },
    {
      "cell_type": "code",
      "source": [
        "Heart_common = set(lab_DEGene).intersection(set(GTEx_Heart_DEGene))\n",
        "Artery_common = set(lab_DEGene).intersection(set(GTEx_Artery_DEGene))\n",
        "print(len(Heart_common),len(Artery_common))"
      ],
      "metadata": {
        "id": "VxdwQ_risHRQ",
        "colab": {
          "base_uri": "https://localhost:8080/"
        },
        "outputId": "85af4b36-a277-4d1e-f9f4-eaf749f3bea3"
      },
      "execution_count": null,
      "outputs": [
        {
          "output_type": "stream",
          "name": "stdout",
          "text": [
            "350 363\n"
          ]
        }
      ]
    },
    {
      "cell_type": "code",
      "source": [
        "SpecificGene = pd.read_csv(filelocate+\"/data/09-2022_PANDA_GeneList.csv\", sep = ',')\n",
        "SpecificGene = SpecificGene[(SpecificGene['Multiplicity']>= 1)].iloc[: , :5]\n",
        "SpecificGeneList = SpecificGene.iloc[: , :5]['Name']"
      ],
      "metadata": {
        "id": "uhJV8VIhixdw"
      },
      "execution_count": null,
      "outputs": []
    },
    {
      "cell_type": "code",
      "source": [
        "print(len(set(Up_cfRNA)&set(SpecificGeneList)),len(set(Up_PBMC)&set(SpecificGeneList)), len(set(Non_DEG)&set(SpecificGeneList)))"
      ],
      "metadata": {
        "colab": {
          "base_uri": "https://localhost:8080/"
        },
        "id": "U-ernOd1EBdz",
        "outputId": "01e72b5a-cd16-415c-8b97-809d847b928d"
      },
      "execution_count": null,
      "outputs": [
        {
          "output_type": "stream",
          "name": "stdout",
          "text": [
            "286 175 3009\n"
          ]
        }
      ]
    },
    {
      "cell_type": "code",
      "source": [
        "len(SpecificGeneList)"
      ],
      "metadata": {
        "id": "v1ZIo_u8dC9B",
        "colab": {
          "base_uri": "https://localhost:8080/"
        },
        "outputId": "05725179-0c98-4266-dc0c-b1ce2aa884a2"
      },
      "execution_count": null,
      "outputs": [
        {
          "output_type": "execute_result",
          "data": {
            "text/plain": [
              "12586"
            ]
          },
          "metadata": {},
          "execution_count": 130
        }
      ]
    },
    {
      "cell_type": "code",
      "source": [
        "Ajay_gene = pd.read_csv(filelocate + \"/data/Artery_Coronary_qQTL_gene.txt\", sep = \"\\t\")\n",
        "Ajay_list = Ajay_gene['EQTLgene'].str.split('.').str[0]\n",
        "Ajay_DESeq = set(lab_DEGene)&set(Ajay_list)"
      ],
      "metadata": {
        "id": "AOS-ITRrCxlF"
      },
      "execution_count": null,
      "outputs": []
    },
    {
      "cell_type": "code",
      "source": [
        "count_DESeq_raw[count_DESeq_raw['gene'].isin(list(Ajay_list))]"
      ],
      "metadata": {
        "colab": {
          "base_uri": "https://localhost:8080/",
          "height": 206
        },
        "id": "1XjLn1IuuZ27",
        "outputId": "eb18ec05-133f-4fc3-c614-d9d9e1731a97"
      },
      "execution_count": null,
      "outputs": [
        {
          "output_type": "execute_result",
          "data": {
            "text/plain": [
              "                  gene    baseMean  log2FoldChange     lfcSE      stat  \\\n",
              "4400   ENSG00000129354  536.088614       -0.406129  0.229432 -1.770150   \n",
              "5868   ENSG00000143126   27.481646       -0.914663  0.416720 -2.194912   \n",
              "8016   ENSG00000166197  153.347923        0.620075  0.246630  2.514188   \n",
              "8031   ENSG00000166275   26.045602        0.989935  0.404935  2.444675   \n",
              "11122  ENSG00000214435   10.433659        1.167361  0.687088  1.698999   \n",
              "\n",
              "         pvalue      padj  \n",
              "4400   0.076702  0.168091  \n",
              "5868   0.028170  0.079940  \n",
              "8016   0.011931  0.041162  \n",
              "8031   0.014498  0.047932  \n",
              "11122  0.089319  0.187689  "
            ],
            "text/html": [
              "\n",
              "  <div id=\"df-8967bf03-5e5f-4d71-9d32-c2b9d629ba74\">\n",
              "    <div class=\"colab-df-container\">\n",
              "      <div>\n",
              "<style scoped>\n",
              "    .dataframe tbody tr th:only-of-type {\n",
              "        vertical-align: middle;\n",
              "    }\n",
              "\n",
              "    .dataframe tbody tr th {\n",
              "        vertical-align: top;\n",
              "    }\n",
              "\n",
              "    .dataframe thead th {\n",
              "        text-align: right;\n",
              "    }\n",
              "</style>\n",
              "<table border=\"1\" class=\"dataframe\">\n",
              "  <thead>\n",
              "    <tr style=\"text-align: right;\">\n",
              "      <th></th>\n",
              "      <th>gene</th>\n",
              "      <th>baseMean</th>\n",
              "      <th>log2FoldChange</th>\n",
              "      <th>lfcSE</th>\n",
              "      <th>stat</th>\n",
              "      <th>pvalue</th>\n",
              "      <th>padj</th>\n",
              "    </tr>\n",
              "  </thead>\n",
              "  <tbody>\n",
              "    <tr>\n",
              "      <th>4400</th>\n",
              "      <td>ENSG00000129354</td>\n",
              "      <td>536.088614</td>\n",
              "      <td>-0.406129</td>\n",
              "      <td>0.229432</td>\n",
              "      <td>-1.770150</td>\n",
              "      <td>0.076702</td>\n",
              "      <td>0.168091</td>\n",
              "    </tr>\n",
              "    <tr>\n",
              "      <th>5868</th>\n",
              "      <td>ENSG00000143126</td>\n",
              "      <td>27.481646</td>\n",
              "      <td>-0.914663</td>\n",
              "      <td>0.416720</td>\n",
              "      <td>-2.194912</td>\n",
              "      <td>0.028170</td>\n",
              "      <td>0.079940</td>\n",
              "    </tr>\n",
              "    <tr>\n",
              "      <th>8016</th>\n",
              "      <td>ENSG00000166197</td>\n",
              "      <td>153.347923</td>\n",
              "      <td>0.620075</td>\n",
              "      <td>0.246630</td>\n",
              "      <td>2.514188</td>\n",
              "      <td>0.011931</td>\n",
              "      <td>0.041162</td>\n",
              "    </tr>\n",
              "    <tr>\n",
              "      <th>8031</th>\n",
              "      <td>ENSG00000166275</td>\n",
              "      <td>26.045602</td>\n",
              "      <td>0.989935</td>\n",
              "      <td>0.404935</td>\n",
              "      <td>2.444675</td>\n",
              "      <td>0.014498</td>\n",
              "      <td>0.047932</td>\n",
              "    </tr>\n",
              "    <tr>\n",
              "      <th>11122</th>\n",
              "      <td>ENSG00000214435</td>\n",
              "      <td>10.433659</td>\n",
              "      <td>1.167361</td>\n",
              "      <td>0.687088</td>\n",
              "      <td>1.698999</td>\n",
              "      <td>0.089319</td>\n",
              "      <td>0.187689</td>\n",
              "    </tr>\n",
              "  </tbody>\n",
              "</table>\n",
              "</div>\n",
              "      <button class=\"colab-df-convert\" onclick=\"convertToInteractive('df-8967bf03-5e5f-4d71-9d32-c2b9d629ba74')\"\n",
              "              title=\"Convert this dataframe to an interactive table.\"\n",
              "              style=\"display:none;\">\n",
              "        \n",
              "  <svg xmlns=\"http://www.w3.org/2000/svg\" height=\"24px\"viewBox=\"0 0 24 24\"\n",
              "       width=\"24px\">\n",
              "    <path d=\"M0 0h24v24H0V0z\" fill=\"none\"/>\n",
              "    <path d=\"M18.56 5.44l.94 2.06.94-2.06 2.06-.94-2.06-.94-.94-2.06-.94 2.06-2.06.94zm-11 1L8.5 8.5l.94-2.06 2.06-.94-2.06-.94L8.5 2.5l-.94 2.06-2.06.94zm10 10l.94 2.06.94-2.06 2.06-.94-2.06-.94-.94-2.06-.94 2.06-2.06.94z\"/><path d=\"M17.41 7.96l-1.37-1.37c-.4-.4-.92-.59-1.43-.59-.52 0-1.04.2-1.43.59L10.3 9.45l-7.72 7.72c-.78.78-.78 2.05 0 2.83L4 21.41c.39.39.9.59 1.41.59.51 0 1.02-.2 1.41-.59l7.78-7.78 2.81-2.81c.8-.78.8-2.07 0-2.86zM5.41 20L4 18.59l7.72-7.72 1.47 1.35L5.41 20z\"/>\n",
              "  </svg>\n",
              "      </button>\n",
              "      \n",
              "  <style>\n",
              "    .colab-df-container {\n",
              "      display:flex;\n",
              "      flex-wrap:wrap;\n",
              "      gap: 12px;\n",
              "    }\n",
              "\n",
              "    .colab-df-convert {\n",
              "      background-color: #E8F0FE;\n",
              "      border: none;\n",
              "      border-radius: 50%;\n",
              "      cursor: pointer;\n",
              "      display: none;\n",
              "      fill: #1967D2;\n",
              "      height: 32px;\n",
              "      padding: 0 0 0 0;\n",
              "      width: 32px;\n",
              "    }\n",
              "\n",
              "    .colab-df-convert:hover {\n",
              "      background-color: #E2EBFA;\n",
              "      box-shadow: 0px 1px 2px rgba(60, 64, 67, 0.3), 0px 1px 3px 1px rgba(60, 64, 67, 0.15);\n",
              "      fill: #174EA6;\n",
              "    }\n",
              "\n",
              "    [theme=dark] .colab-df-convert {\n",
              "      background-color: #3B4455;\n",
              "      fill: #D2E3FC;\n",
              "    }\n",
              "\n",
              "    [theme=dark] .colab-df-convert:hover {\n",
              "      background-color: #434B5C;\n",
              "      box-shadow: 0px 1px 3px 1px rgba(0, 0, 0, 0.15);\n",
              "      filter: drop-shadow(0px 1px 2px rgba(0, 0, 0, 0.3));\n",
              "      fill: #FFFFFF;\n",
              "    }\n",
              "  </style>\n",
              "\n",
              "      <script>\n",
              "        const buttonEl =\n",
              "          document.querySelector('#df-8967bf03-5e5f-4d71-9d32-c2b9d629ba74 button.colab-df-convert');\n",
              "        buttonEl.style.display =\n",
              "          google.colab.kernel.accessAllowed ? 'block' : 'none';\n",
              "\n",
              "        async function convertToInteractive(key) {\n",
              "          const element = document.querySelector('#df-8967bf03-5e5f-4d71-9d32-c2b9d629ba74');\n",
              "          const dataTable =\n",
              "            await google.colab.kernel.invokeFunction('convertToInteractive',\n",
              "                                                     [key], {});\n",
              "          if (!dataTable) return;\n",
              "\n",
              "          const docLinkHtml = 'Like what you see? Visit the ' +\n",
              "            '<a target=\"_blank\" href=https://colab.research.google.com/notebooks/data_table.ipynb>data table notebook</a>'\n",
              "            + ' to learn more about interactive tables.';\n",
              "          element.innerHTML = '';\n",
              "          dataTable['output_type'] = 'display_data';\n",
              "          await google.colab.output.renderOutput(dataTable, element);\n",
              "          const docLink = document.createElement('div');\n",
              "          docLink.innerHTML = docLinkHtml;\n",
              "          element.appendChild(docLink);\n",
              "        }\n",
              "      </script>\n",
              "    </div>\n",
              "  </div>\n",
              "  "
            ]
          },
          "metadata": {},
          "execution_count": 52
        }
      ]
    },
    {
      "cell_type": "code",
      "source": [
        "Uniq_Tissue = list(set([j for sub in SpecificGene['Tissues'].str.split(',') for j in sub]))\n",
        "Uniq_Tissue_list = ['Adipose', 'Adrenal_gland', 'Artery', 'Brain', 'Breast', 'Colon', 'Esophagus', 'Fibroblast_cell_line', \n",
        "                    'Gastroesophageal_junction', 'Heart', 'Intestine_terminal_ileum', 'Kidney_cortex', 'Liver', 'Lung', 'Lymphoblastoid_cell_line', \n",
        "                    'Minor_salivary_gland', 'Ovary', 'Pancreas', 'Pituitary', 'Prostate', 'Skeletal_muscle', 'Skin', 'Spleen', 'Stomach', 'Testis', \n",
        "                    'Thyroid', 'Tibial_nerve', 'Uterus', 'Vagina', 'Whole_blood']\n"
      ],
      "metadata": {
        "id": "fijahzoI4fw9"
      },
      "execution_count": null,
      "outputs": []
    },
    {
      "cell_type": "code",
      "source": [
        "# Get cfRNA enrichment for all tissues\n",
        "T_Specific = pd.DataFrame()\n",
        "T_Specific['Tissue'] = ['Up_cfRNA','Up_PBMC','Non_DEGs']\n",
        "whole_DEG = [Up_cfRNA, Up_PBMC, Non_DEG]\n",
        "temp = [0]*3\n",
        "for tissue in Uniq_Tissue_list:\n",
        "  tissue_list = SpecificGene[SpecificGene['Tissues'].str.contains(tissue)]['Name']\n",
        "  for j in range(len(T_Specific['Tissue'])):\n",
        "    temp[j] = round(len(set(whole_DEG[j])&set(tissue_list)))\n",
        "    #/len(whole_DEG[j]), 4)\n",
        "  T_Specific[tissue] = temp\n",
        "\n"
      ],
      "metadata": {
        "id": "sqBGK2PSBYrc"
      },
      "execution_count": null,
      "outputs": []
    },
    {
      "cell_type": "code",
      "source": [
        "# Prepare TS_Percent dataframe\n",
        "TS_Percent = pd.DataFrame()\n",
        "# Drop tissues with sum <= 7\n",
        "for column in T_Specific.iloc[:, 1:]:\n",
        "    if (T_Specific[column].sum() <= 7):\n",
        "        T_Specific.drop(column, inplace=True, axis=1)\n",
        "\n",
        "for index, row in T_Specific.iterrows():\n",
        "  TS_Percent.at[index, 'Tissue'] = row['Tissue']+\"%\"\n",
        "\n",
        "TS_Percent = pd.concat([TS_Percent, round(T_Specific.iloc[:, 1:]/T_Specific.iloc[:, 1:].sum(axis = 0),4)], axis=1)"
      ],
      "metadata": {
        "id": "n1gK3FPFtGmB"
      },
      "execution_count": null,
      "outputs": []
    },
    {
      "cell_type": "code",
      "source": [
        "TS_Percent_ggplot = pd.melt(TS_Percent, id_vars='Tissue', value_vars=list(TS_Percent.columns)[1:], value_name='Percent')\n",
        "TS_Percent_ggplot.to_csv(filelocate + '/data/TS_Percent_ggplot.csv')"
      ],
      "metadata": {
        "id": "7Slf8U_0jZgB"
      },
      "execution_count": null,
      "outputs": []
    },
    {
      "cell_type": "code",
      "source": [],
      "metadata": {
        "colab": {
          "base_uri": "https://localhost:8080/"
        },
        "id": "G5ueuuvIkWaV",
        "outputId": "33b603fb-9668-4df0-d75c-21bab8d30e79"
      },
      "execution_count": null,
      "outputs": [
        {
          "output_type": "execute_result",
          "data": {
            "text/plain": [
              "['Adrenal_gland',\n",
              " 'Artery',\n",
              " 'Brain',\n",
              " 'Colon',\n",
              " 'Esophagus',\n",
              " 'Fibroblast_cell_line',\n",
              " 'Heart',\n",
              " 'Intestine_terminal_ileum',\n",
              " 'Kidney_cortex',\n",
              " 'Liver',\n",
              " 'Lung',\n",
              " 'Lymphoblastoid_cell_line',\n",
              " 'Minor_salivary_gland',\n",
              " 'Ovary',\n",
              " 'Pancreas',\n",
              " 'Pituitary',\n",
              " 'Prostate',\n",
              " 'Skeletal_muscle',\n",
              " 'Skin',\n",
              " 'Spleen',\n",
              " 'Stomach',\n",
              " 'Testis',\n",
              " 'Thyroid',\n",
              " 'Tibial_nerve',\n",
              " 'Vagina',\n",
              " 'Whole_blood']"
            ]
          },
          "metadata": {},
          "execution_count": 225
        }
      ]
    },
    {
      "cell_type": "code",
      "source": [
        "print(sorted(Uniq_Tissue))"
      ],
      "metadata": {
        "colab": {
          "base_uri": "https://localhost:8080/"
        },
        "id": "v51hd70Z_evI",
        "outputId": "9b47815f-823a-4cd1-ff0a-261e6d51a7a4"
      },
      "execution_count": null,
      "outputs": [
        {
          "output_type": "stream",
          "name": "stdout",
          "text": [
            "['', 'Adipose_subcutaneous', 'Adipose_visceral', 'Adrenal_gland', 'Artery_aorta', 'Artery_coronary', 'Artery_tibial', 'Brain_basal_ganglia', 'Brain_cerebellum', 'Brain_other', 'Breast', 'Colon_sigmoid', 'Colon_transverse', 'Esophagus_mucosa', 'Esophagus_muscularis', 'Fibroblast_cell_line', 'Gastroesophageal_junction', 'Heart_atrial_appendage', 'Heart_left_ventricle', 'Intestine_terminal_ileum', 'Kidney_cortex', 'Liver', 'Lung', 'Lymphoblastoid_cell_line', 'Minor_salivary_gland', 'Ovary', 'Pancreas', 'Pituitary', 'Prostate', 'Skeletal_muscle', 'Skin', 'Spleen', 'Stomach', 'Testis', 'Thyroid', 'Tibial_nerve', 'Uterus', 'Vagina', 'Whole_blood']\n"
          ]
        }
      ]
    },
    {
      "cell_type": "code",
      "source": [
        "Artery_specificgene = SpecificGene[SpecificGene['Tissues'].str.contains('Artery')]['Name']\n",
        "Heart_specificgene = SpecificGene[SpecificGene['Tissues'].str.contains('Heart')]['Name']\n",
        "Lung_specificgene = SpecificGene[SpecificGene['Tissues'].str.contains('Lung')]['Name']\n",
        "CV_specificgene = (list(Artery_specificgene)+list(Heart_specificgene))"
      ],
      "metadata": {
        "id": "Cs4FZSIM6PGo"
      },
      "execution_count": null,
      "outputs": []
    },
    {
      "cell_type": "code",
      "source": [
        "len(CV_specificgene)"
      ],
      "metadata": {
        "colab": {
          "base_uri": "https://localhost:8080/"
        },
        "id": "9Cm1vsct93nK",
        "outputId": "afa6f73d-a96c-4394-a4d4-54b81bd12148"
      },
      "execution_count": null,
      "outputs": [
        {
          "output_type": "execute_result",
          "data": {
            "text/plain": [
              "610"
            ]
          },
          "metadata": {},
          "execution_count": 135
        }
      ]
    },
    {
      "cell_type": "code",
      "source": [
        "# Heart specificity\n",
        "print(len(set(Up_cfRNA)&set(CV_specificgene)),len(set(Up_PBMC)&set(CV_specificgene)), len(set(Non_DEG)&set(CV_specificgene)))"
      ],
      "metadata": {
        "colab": {
          "base_uri": "https://localhost:8080/"
        },
        "id": "s3TD2gHj7Xlp",
        "outputId": "285a1d9a-5cb9-45df-fd81-fde9f825b85a"
      },
      "execution_count": null,
      "outputs": [
        {
          "output_type": "stream",
          "name": "stdout",
          "text": [
            "23 7 123\n"
          ]
        }
      ]
    },
    {
      "cell_type": "code",
      "source": [
        "# Lung specificity\n",
        "print(len(set(Up_cfRNA)&set(Lung_specificgene)),len(set(Up_PBMC)&set(Lung_specificgene)), len(set(Non_DEG)&set(Lung_specificgene)))"
      ],
      "metadata": {
        "colab": {
          "base_uri": "https://localhost:8080/"
        },
        "id": "QREB849Z98iQ",
        "outputId": "bda147a3-a094-4699-dad9-da47553b1bbd"
      },
      "execution_count": null,
      "outputs": [
        {
          "output_type": "stream",
          "name": "stdout",
          "text": [
            "3 3 19\n"
          ]
        }
      ]
    },
    {
      "cell_type": "markdown",
      "source": [
        "## Why is cfRNA important\n",
        "* 390/409 = up & down, next is to break them up/down seperately.\n",
        "* Will have patient samples, compare them.\n",
        "* From GTEx, get tissue specific genes for other tissues."
      ],
      "metadata": {
        "id": "faHshnfQmOrt"
      }
    },
    {
      "cell_type": "markdown",
      "source": [
        "## Get the following number\n",
        "* percent of tissue specific gene = (multiplicity>=1 & Up_DEGs)/Up_DEGs\n",
        "* percent of PBMC specific gene = (multiplicity>=1 & Down_DEGs)/Down_DEGs\n",
        "* percent of non specific gene = (multiplicity>=1 & Down_DEGs)/Down_DEGs"
      ],
      "metadata": {
        "id": "SRUomPJAd5LV"
      }
    },
    {
      "cell_type": "code",
      "source": [
        "count_DESeq_raw"
      ],
      "metadata": {
        "id": "03QL-E_Jjej9",
        "colab": {
          "base_uri": "https://localhost:8080/",
          "height": 424
        },
        "outputId": "fef98a3c-d945-44fb-998d-e5a2ecf6b0a0"
      },
      "execution_count": null,
      "outputs": [
        {
          "output_type": "execute_result",
          "data": {
            "text/plain": [
              "                  gene    baseMean  log2FoldChange     lfcSE      stat  \\\n",
              "0      ENSG00000000419   64.204073        0.368349  0.300316  1.226540   \n",
              "1      ENSG00000000457   58.886319        0.371608  0.303147  1.225834   \n",
              "2      ENSG00000000460  129.630404       -0.362594  0.262511 -1.381253   \n",
              "3      ENSG00000000938  608.829748        0.907757  0.210174  4.319081   \n",
              "4      ENSG00000000971   10.481578        1.774244  0.668779  2.652960   \n",
              "...                ...         ...             ...       ...       ...   \n",
              "11715  ENSG00000281028   60.476555       -0.178027  0.304206 -0.585217   \n",
              "11716  ENSG00000281887  136.345008        1.373928  0.329997  4.163462   \n",
              "11717  ENSG00000282034   71.603687        0.177656  0.415157  0.427924   \n",
              "11718  ENSG00000282278  391.261123       -0.690109  0.214803 -3.212750   \n",
              "11719  ENSG00000282988  753.353024        0.103069  0.204602  0.503752   \n",
              "\n",
              "         pvalue      padj  \n",
              "0      0.219995  0.360759  \n",
              "1      0.220261  0.360993  \n",
              "2      0.167201  0.296819  \n",
              "3      0.000016  0.000185  \n",
              "4      0.007979  0.030302  \n",
              "...         ...       ...  \n",
              "11715  0.558402  0.689942  \n",
              "11716  0.000031  0.000331  \n",
              "11717  0.668707  0.777659  \n",
              "11718  0.001315  0.007372  \n",
              "11719  0.614436  0.734085  \n",
              "\n",
              "[11720 rows x 7 columns]"
            ],
            "text/html": [
              "\n",
              "  <div id=\"df-08e7ed1d-e3f1-4afb-a41e-4e6a41a5e089\">\n",
              "    <div class=\"colab-df-container\">\n",
              "      <div>\n",
              "<style scoped>\n",
              "    .dataframe tbody tr th:only-of-type {\n",
              "        vertical-align: middle;\n",
              "    }\n",
              "\n",
              "    .dataframe tbody tr th {\n",
              "        vertical-align: top;\n",
              "    }\n",
              "\n",
              "    .dataframe thead th {\n",
              "        text-align: right;\n",
              "    }\n",
              "</style>\n",
              "<table border=\"1\" class=\"dataframe\">\n",
              "  <thead>\n",
              "    <tr style=\"text-align: right;\">\n",
              "      <th></th>\n",
              "      <th>gene</th>\n",
              "      <th>baseMean</th>\n",
              "      <th>log2FoldChange</th>\n",
              "      <th>lfcSE</th>\n",
              "      <th>stat</th>\n",
              "      <th>pvalue</th>\n",
              "      <th>padj</th>\n",
              "    </tr>\n",
              "  </thead>\n",
              "  <tbody>\n",
              "    <tr>\n",
              "      <th>0</th>\n",
              "      <td>ENSG00000000419</td>\n",
              "      <td>64.204073</td>\n",
              "      <td>0.368349</td>\n",
              "      <td>0.300316</td>\n",
              "      <td>1.226540</td>\n",
              "      <td>0.219995</td>\n",
              "      <td>0.360759</td>\n",
              "    </tr>\n",
              "    <tr>\n",
              "      <th>1</th>\n",
              "      <td>ENSG00000000457</td>\n",
              "      <td>58.886319</td>\n",
              "      <td>0.371608</td>\n",
              "      <td>0.303147</td>\n",
              "      <td>1.225834</td>\n",
              "      <td>0.220261</td>\n",
              "      <td>0.360993</td>\n",
              "    </tr>\n",
              "    <tr>\n",
              "      <th>2</th>\n",
              "      <td>ENSG00000000460</td>\n",
              "      <td>129.630404</td>\n",
              "      <td>-0.362594</td>\n",
              "      <td>0.262511</td>\n",
              "      <td>-1.381253</td>\n",
              "      <td>0.167201</td>\n",
              "      <td>0.296819</td>\n",
              "    </tr>\n",
              "    <tr>\n",
              "      <th>3</th>\n",
              "      <td>ENSG00000000938</td>\n",
              "      <td>608.829748</td>\n",
              "      <td>0.907757</td>\n",
              "      <td>0.210174</td>\n",
              "      <td>4.319081</td>\n",
              "      <td>0.000016</td>\n",
              "      <td>0.000185</td>\n",
              "    </tr>\n",
              "    <tr>\n",
              "      <th>4</th>\n",
              "      <td>ENSG00000000971</td>\n",
              "      <td>10.481578</td>\n",
              "      <td>1.774244</td>\n",
              "      <td>0.668779</td>\n",
              "      <td>2.652960</td>\n",
              "      <td>0.007979</td>\n",
              "      <td>0.030302</td>\n",
              "    </tr>\n",
              "    <tr>\n",
              "      <th>...</th>\n",
              "      <td>...</td>\n",
              "      <td>...</td>\n",
              "      <td>...</td>\n",
              "      <td>...</td>\n",
              "      <td>...</td>\n",
              "      <td>...</td>\n",
              "      <td>...</td>\n",
              "    </tr>\n",
              "    <tr>\n",
              "      <th>11715</th>\n",
              "      <td>ENSG00000281028</td>\n",
              "      <td>60.476555</td>\n",
              "      <td>-0.178027</td>\n",
              "      <td>0.304206</td>\n",
              "      <td>-0.585217</td>\n",
              "      <td>0.558402</td>\n",
              "      <td>0.689942</td>\n",
              "    </tr>\n",
              "    <tr>\n",
              "      <th>11716</th>\n",
              "      <td>ENSG00000281887</td>\n",
              "      <td>136.345008</td>\n",
              "      <td>1.373928</td>\n",
              "      <td>0.329997</td>\n",
              "      <td>4.163462</td>\n",
              "      <td>0.000031</td>\n",
              "      <td>0.000331</td>\n",
              "    </tr>\n",
              "    <tr>\n",
              "      <th>11717</th>\n",
              "      <td>ENSG00000282034</td>\n",
              "      <td>71.603687</td>\n",
              "      <td>0.177656</td>\n",
              "      <td>0.415157</td>\n",
              "      <td>0.427924</td>\n",
              "      <td>0.668707</td>\n",
              "      <td>0.777659</td>\n",
              "    </tr>\n",
              "    <tr>\n",
              "      <th>11718</th>\n",
              "      <td>ENSG00000282278</td>\n",
              "      <td>391.261123</td>\n",
              "      <td>-0.690109</td>\n",
              "      <td>0.214803</td>\n",
              "      <td>-3.212750</td>\n",
              "      <td>0.001315</td>\n",
              "      <td>0.007372</td>\n",
              "    </tr>\n",
              "    <tr>\n",
              "      <th>11719</th>\n",
              "      <td>ENSG00000282988</td>\n",
              "      <td>753.353024</td>\n",
              "      <td>0.103069</td>\n",
              "      <td>0.204602</td>\n",
              "      <td>0.503752</td>\n",
              "      <td>0.614436</td>\n",
              "      <td>0.734085</td>\n",
              "    </tr>\n",
              "  </tbody>\n",
              "</table>\n",
              "<p>11720 rows × 7 columns</p>\n",
              "</div>\n",
              "      <button class=\"colab-df-convert\" onclick=\"convertToInteractive('df-08e7ed1d-e3f1-4afb-a41e-4e6a41a5e089')\"\n",
              "              title=\"Convert this dataframe to an interactive table.\"\n",
              "              style=\"display:none;\">\n",
              "        \n",
              "  <svg xmlns=\"http://www.w3.org/2000/svg\" height=\"24px\"viewBox=\"0 0 24 24\"\n",
              "       width=\"24px\">\n",
              "    <path d=\"M0 0h24v24H0V0z\" fill=\"none\"/>\n",
              "    <path d=\"M18.56 5.44l.94 2.06.94-2.06 2.06-.94-2.06-.94-.94-2.06-.94 2.06-2.06.94zm-11 1L8.5 8.5l.94-2.06 2.06-.94-2.06-.94L8.5 2.5l-.94 2.06-2.06.94zm10 10l.94 2.06.94-2.06 2.06-.94-2.06-.94-.94-2.06-.94 2.06-2.06.94z\"/><path d=\"M17.41 7.96l-1.37-1.37c-.4-.4-.92-.59-1.43-.59-.52 0-1.04.2-1.43.59L10.3 9.45l-7.72 7.72c-.78.78-.78 2.05 0 2.83L4 21.41c.39.39.9.59 1.41.59.51 0 1.02-.2 1.41-.59l7.78-7.78 2.81-2.81c.8-.78.8-2.07 0-2.86zM5.41 20L4 18.59l7.72-7.72 1.47 1.35L5.41 20z\"/>\n",
              "  </svg>\n",
              "      </button>\n",
              "      \n",
              "  <style>\n",
              "    .colab-df-container {\n",
              "      display:flex;\n",
              "      flex-wrap:wrap;\n",
              "      gap: 12px;\n",
              "    }\n",
              "\n",
              "    .colab-df-convert {\n",
              "      background-color: #E8F0FE;\n",
              "      border: none;\n",
              "      border-radius: 50%;\n",
              "      cursor: pointer;\n",
              "      display: none;\n",
              "      fill: #1967D2;\n",
              "      height: 32px;\n",
              "      padding: 0 0 0 0;\n",
              "      width: 32px;\n",
              "    }\n",
              "\n",
              "    .colab-df-convert:hover {\n",
              "      background-color: #E2EBFA;\n",
              "      box-shadow: 0px 1px 2px rgba(60, 64, 67, 0.3), 0px 1px 3px 1px rgba(60, 64, 67, 0.15);\n",
              "      fill: #174EA6;\n",
              "    }\n",
              "\n",
              "    [theme=dark] .colab-df-convert {\n",
              "      background-color: #3B4455;\n",
              "      fill: #D2E3FC;\n",
              "    }\n",
              "\n",
              "    [theme=dark] .colab-df-convert:hover {\n",
              "      background-color: #434B5C;\n",
              "      box-shadow: 0px 1px 3px 1px rgba(0, 0, 0, 0.15);\n",
              "      filter: drop-shadow(0px 1px 2px rgba(0, 0, 0, 0.3));\n",
              "      fill: #FFFFFF;\n",
              "    }\n",
              "  </style>\n",
              "\n",
              "      <script>\n",
              "        const buttonEl =\n",
              "          document.querySelector('#df-08e7ed1d-e3f1-4afb-a41e-4e6a41a5e089 button.colab-df-convert');\n",
              "        buttonEl.style.display =\n",
              "          google.colab.kernel.accessAllowed ? 'block' : 'none';\n",
              "\n",
              "        async function convertToInteractive(key) {\n",
              "          const element = document.querySelector('#df-08e7ed1d-e3f1-4afb-a41e-4e6a41a5e089');\n",
              "          const dataTable =\n",
              "            await google.colab.kernel.invokeFunction('convertToInteractive',\n",
              "                                                     [key], {});\n",
              "          if (!dataTable) return;\n",
              "\n",
              "          const docLinkHtml = 'Like what you see? Visit the ' +\n",
              "            '<a target=\"_blank\" href=https://colab.research.google.com/notebooks/data_table.ipynb>data table notebook</a>'\n",
              "            + ' to learn more about interactive tables.';\n",
              "          element.innerHTML = '';\n",
              "          dataTable['output_type'] = 'display_data';\n",
              "          await google.colab.output.renderOutput(dataTable, element);\n",
              "          const docLink = document.createElement('div');\n",
              "          docLink.innerHTML = docLinkHtml;\n",
              "          element.appendChild(docLink);\n",
              "        }\n",
              "      </script>\n",
              "    </div>\n",
              "  </div>\n",
              "  "
            ]
          },
          "metadata": {},
          "execution_count": 29
        }
      ]
    },
    {
      "cell_type": "code",
      "source": [
        "count_DESeq"
      ],
      "metadata": {
        "colab": {
          "base_uri": "https://localhost:8080/",
          "height": 424
        },
        "id": "3wnZGiGrifaL",
        "outputId": "0a590db5-bcd6-4fb5-e439-ccd8de1d1335"
      },
      "execution_count": null,
      "outputs": [
        {
          "output_type": "execute_result",
          "data": {
            "text/plain": [
              "                  gene    baseMean  log2FoldChange     lfcSE      stat  \\\n",
              "4      ENSG00000000971   10.481578        1.774244  0.668779  2.652960   \n",
              "10     ENSG00000001497   82.118334        1.138183  0.300463  3.788093   \n",
              "27     ENSG00000003400   49.684587        1.152768  0.330067  3.492523   \n",
              "38     ENSG00000004478   77.675944        1.176359  0.302893  3.883749   \n",
              "45     ENSG00000004779   49.921107        1.702384  0.333377  5.106488   \n",
              "...                ...         ...             ...       ...       ...   \n",
              "11710  ENSG00000280071  141.089535        2.095737  0.279089  7.509208   \n",
              "11711  ENSG00000280571   78.406114       -6.139415  1.463023 -4.196389   \n",
              "11712  ENSG00000280789   16.464384        1.340035  1.581134  0.847515   \n",
              "11714  ENSG00000280987  729.351954       -1.264114  0.281121 -4.496694   \n",
              "11716  ENSG00000281887  136.345008        1.373928  0.329997  4.163462   \n",
              "\n",
              "             pvalue          padj  \n",
              "4      7.978937e-03  3.030238e-02  \n",
              "10     1.518081e-04  1.253834e-03  \n",
              "27     4.784812e-04  3.268173e-03  \n",
              "38     1.028582e-04  9.146421e-04  \n",
              "45     3.282012e-07  6.701251e-06  \n",
              "...             ...           ...  \n",
              "11710  5.948604e-14  5.164270e-12  \n",
              "11711  2.712043e-05  2.918746e-04  \n",
              "11712  3.967082e-01  5.460912e-01  \n",
              "11714  6.901823e-06  9.274084e-05  \n",
              "11716  3.134578e-05  3.309662e-04  \n",
              "\n",
              "[1755 rows x 7 columns]"
            ],
            "text/html": [
              "\n",
              "  <div id=\"df-a1d8a127-4835-41f1-841c-27d556ff287f\">\n",
              "    <div class=\"colab-df-container\">\n",
              "      <div>\n",
              "<style scoped>\n",
              "    .dataframe tbody tr th:only-of-type {\n",
              "        vertical-align: middle;\n",
              "    }\n",
              "\n",
              "    .dataframe tbody tr th {\n",
              "        vertical-align: top;\n",
              "    }\n",
              "\n",
              "    .dataframe thead th {\n",
              "        text-align: right;\n",
              "    }\n",
              "</style>\n",
              "<table border=\"1\" class=\"dataframe\">\n",
              "  <thead>\n",
              "    <tr style=\"text-align: right;\">\n",
              "      <th></th>\n",
              "      <th>gene</th>\n",
              "      <th>baseMean</th>\n",
              "      <th>log2FoldChange</th>\n",
              "      <th>lfcSE</th>\n",
              "      <th>stat</th>\n",
              "      <th>pvalue</th>\n",
              "      <th>padj</th>\n",
              "    </tr>\n",
              "  </thead>\n",
              "  <tbody>\n",
              "    <tr>\n",
              "      <th>4</th>\n",
              "      <td>ENSG00000000971</td>\n",
              "      <td>10.481578</td>\n",
              "      <td>1.774244</td>\n",
              "      <td>0.668779</td>\n",
              "      <td>2.652960</td>\n",
              "      <td>7.978937e-03</td>\n",
              "      <td>3.030238e-02</td>\n",
              "    </tr>\n",
              "    <tr>\n",
              "      <th>10</th>\n",
              "      <td>ENSG00000001497</td>\n",
              "      <td>82.118334</td>\n",
              "      <td>1.138183</td>\n",
              "      <td>0.300463</td>\n",
              "      <td>3.788093</td>\n",
              "      <td>1.518081e-04</td>\n",
              "      <td>1.253834e-03</td>\n",
              "    </tr>\n",
              "    <tr>\n",
              "      <th>27</th>\n",
              "      <td>ENSG00000003400</td>\n",
              "      <td>49.684587</td>\n",
              "      <td>1.152768</td>\n",
              "      <td>0.330067</td>\n",
              "      <td>3.492523</td>\n",
              "      <td>4.784812e-04</td>\n",
              "      <td>3.268173e-03</td>\n",
              "    </tr>\n",
              "    <tr>\n",
              "      <th>38</th>\n",
              "      <td>ENSG00000004478</td>\n",
              "      <td>77.675944</td>\n",
              "      <td>1.176359</td>\n",
              "      <td>0.302893</td>\n",
              "      <td>3.883749</td>\n",
              "      <td>1.028582e-04</td>\n",
              "      <td>9.146421e-04</td>\n",
              "    </tr>\n",
              "    <tr>\n",
              "      <th>45</th>\n",
              "      <td>ENSG00000004779</td>\n",
              "      <td>49.921107</td>\n",
              "      <td>1.702384</td>\n",
              "      <td>0.333377</td>\n",
              "      <td>5.106488</td>\n",
              "      <td>3.282012e-07</td>\n",
              "      <td>6.701251e-06</td>\n",
              "    </tr>\n",
              "    <tr>\n",
              "      <th>...</th>\n",
              "      <td>...</td>\n",
              "      <td>...</td>\n",
              "      <td>...</td>\n",
              "      <td>...</td>\n",
              "      <td>...</td>\n",
              "      <td>...</td>\n",
              "      <td>...</td>\n",
              "    </tr>\n",
              "    <tr>\n",
              "      <th>11710</th>\n",
              "      <td>ENSG00000280071</td>\n",
              "      <td>141.089535</td>\n",
              "      <td>2.095737</td>\n",
              "      <td>0.279089</td>\n",
              "      <td>7.509208</td>\n",
              "      <td>5.948604e-14</td>\n",
              "      <td>5.164270e-12</td>\n",
              "    </tr>\n",
              "    <tr>\n",
              "      <th>11711</th>\n",
              "      <td>ENSG00000280571</td>\n",
              "      <td>78.406114</td>\n",
              "      <td>-6.139415</td>\n",
              "      <td>1.463023</td>\n",
              "      <td>-4.196389</td>\n",
              "      <td>2.712043e-05</td>\n",
              "      <td>2.918746e-04</td>\n",
              "    </tr>\n",
              "    <tr>\n",
              "      <th>11712</th>\n",
              "      <td>ENSG00000280789</td>\n",
              "      <td>16.464384</td>\n",
              "      <td>1.340035</td>\n",
              "      <td>1.581134</td>\n",
              "      <td>0.847515</td>\n",
              "      <td>3.967082e-01</td>\n",
              "      <td>5.460912e-01</td>\n",
              "    </tr>\n",
              "    <tr>\n",
              "      <th>11714</th>\n",
              "      <td>ENSG00000280987</td>\n",
              "      <td>729.351954</td>\n",
              "      <td>-1.264114</td>\n",
              "      <td>0.281121</td>\n",
              "      <td>-4.496694</td>\n",
              "      <td>6.901823e-06</td>\n",
              "      <td>9.274084e-05</td>\n",
              "    </tr>\n",
              "    <tr>\n",
              "      <th>11716</th>\n",
              "      <td>ENSG00000281887</td>\n",
              "      <td>136.345008</td>\n",
              "      <td>1.373928</td>\n",
              "      <td>0.329997</td>\n",
              "      <td>4.163462</td>\n",
              "      <td>3.134578e-05</td>\n",
              "      <td>3.309662e-04</td>\n",
              "    </tr>\n",
              "  </tbody>\n",
              "</table>\n",
              "<p>1755 rows × 7 columns</p>\n",
              "</div>\n",
              "      <button class=\"colab-df-convert\" onclick=\"convertToInteractive('df-a1d8a127-4835-41f1-841c-27d556ff287f')\"\n",
              "              title=\"Convert this dataframe to an interactive table.\"\n",
              "              style=\"display:none;\">\n",
              "        \n",
              "  <svg xmlns=\"http://www.w3.org/2000/svg\" height=\"24px\"viewBox=\"0 0 24 24\"\n",
              "       width=\"24px\">\n",
              "    <path d=\"M0 0h24v24H0V0z\" fill=\"none\"/>\n",
              "    <path d=\"M18.56 5.44l.94 2.06.94-2.06 2.06-.94-2.06-.94-.94-2.06-.94 2.06-2.06.94zm-11 1L8.5 8.5l.94-2.06 2.06-.94-2.06-.94L8.5 2.5l-.94 2.06-2.06.94zm10 10l.94 2.06.94-2.06 2.06-.94-2.06-.94-.94-2.06-.94 2.06-2.06.94z\"/><path d=\"M17.41 7.96l-1.37-1.37c-.4-.4-.92-.59-1.43-.59-.52 0-1.04.2-1.43.59L10.3 9.45l-7.72 7.72c-.78.78-.78 2.05 0 2.83L4 21.41c.39.39.9.59 1.41.59.51 0 1.02-.2 1.41-.59l7.78-7.78 2.81-2.81c.8-.78.8-2.07 0-2.86zM5.41 20L4 18.59l7.72-7.72 1.47 1.35L5.41 20z\"/>\n",
              "  </svg>\n",
              "      </button>\n",
              "      \n",
              "  <style>\n",
              "    .colab-df-container {\n",
              "      display:flex;\n",
              "      flex-wrap:wrap;\n",
              "      gap: 12px;\n",
              "    }\n",
              "\n",
              "    .colab-df-convert {\n",
              "      background-color: #E8F0FE;\n",
              "      border: none;\n",
              "      border-radius: 50%;\n",
              "      cursor: pointer;\n",
              "      display: none;\n",
              "      fill: #1967D2;\n",
              "      height: 32px;\n",
              "      padding: 0 0 0 0;\n",
              "      width: 32px;\n",
              "    }\n",
              "\n",
              "    .colab-df-convert:hover {\n",
              "      background-color: #E2EBFA;\n",
              "      box-shadow: 0px 1px 2px rgba(60, 64, 67, 0.3), 0px 1px 3px 1px rgba(60, 64, 67, 0.15);\n",
              "      fill: #174EA6;\n",
              "    }\n",
              "\n",
              "    [theme=dark] .colab-df-convert {\n",
              "      background-color: #3B4455;\n",
              "      fill: #D2E3FC;\n",
              "    }\n",
              "\n",
              "    [theme=dark] .colab-df-convert:hover {\n",
              "      background-color: #434B5C;\n",
              "      box-shadow: 0px 1px 3px 1px rgba(0, 0, 0, 0.15);\n",
              "      filter: drop-shadow(0px 1px 2px rgba(0, 0, 0, 0.3));\n",
              "      fill: #FFFFFF;\n",
              "    }\n",
              "  </style>\n",
              "\n",
              "      <script>\n",
              "        const buttonEl =\n",
              "          document.querySelector('#df-a1d8a127-4835-41f1-841c-27d556ff287f button.colab-df-convert');\n",
              "        buttonEl.style.display =\n",
              "          google.colab.kernel.accessAllowed ? 'block' : 'none';\n",
              "\n",
              "        async function convertToInteractive(key) {\n",
              "          const element = document.querySelector('#df-a1d8a127-4835-41f1-841c-27d556ff287f');\n",
              "          const dataTable =\n",
              "            await google.colab.kernel.invokeFunction('convertToInteractive',\n",
              "                                                     [key], {});\n",
              "          if (!dataTable) return;\n",
              "\n",
              "          const docLinkHtml = 'Like what you see? Visit the ' +\n",
              "            '<a target=\"_blank\" href=https://colab.research.google.com/notebooks/data_table.ipynb>data table notebook</a>'\n",
              "            + ' to learn more about interactive tables.';\n",
              "          element.innerHTML = '';\n",
              "          dataTable['output_type'] = 'display_data';\n",
              "          await google.colab.output.renderOutput(dataTable, element);\n",
              "          const docLink = document.createElement('div');\n",
              "          docLink.innerHTML = docLinkHtml;\n",
              "          element.appendChild(docLink);\n",
              "        }\n",
              "      </script>\n",
              "    </div>\n",
              "  </div>\n",
              "  "
            ]
          },
          "metadata": {},
          "execution_count": 38
        }
      ]
    }
  ]
}