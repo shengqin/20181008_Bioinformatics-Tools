{
 "cells": [
  {
   "cell_type": "code",
   "execution_count": 14,
   "metadata": {},
   "outputs": [],
   "source": [
    "# Import packages\n",
    "import numpy as np\n",
    "import scipy as sp\n",
    "from scipy import stats, optimize, interpolate"
   ]
  },
  {
   "cell_type": "code",
   "execution_count": 21,
   "metadata": {},
   "outputs": [],
   "source": [
    "# Initiate variables\n",
    "Observed = np.array([[72, 96, 32], [50, 100, 50]])\n",
    "times = 100000\n",
    "genotype = [\"AA\"]*122 + [\"AB\"]*196 + [\"BB\"]*82\n",
    "case_control = [1]*200 + [0]*200\n",
    "chi_score = np.zeros((times, 3))"
   ]
  },
  {
   "cell_type": "code",
   "execution_count": 4,
   "metadata": {},
   "outputs": [],
   "source": [
    "def get_additive(permutation):\n",
    "    \n",
    "    addi = np.zeros((2, 2))\n",
    "    for i in range(len(permutation)):\n",
    "        for j in range(len(permutation[i])):\n",
    "            if j == 0:\n",
    "                addi[i][j] = 2* permutation[i][j] + permutation[i][j+1]\n",
    "            if j == 2:\n",
    "                addi[i][j-1] = 2* permutation[i][j] + permutation[i][j-1]\n",
    "                \n",
    "    return addi"
   ]
  },
  {
   "cell_type": "code",
   "execution_count": 5,
   "metadata": {},
   "outputs": [],
   "source": [
    "def get_dominant(permutation):\n",
    "    \n",
    "    domi = np.zeros((2, 2))\n",
    "    for i in range(len(permutation)):\n",
    "        for j in range(len(permutation[i])):\n",
    "            if j == 0:\n",
    "                domi[i][j] = permutation[i][j] + permutation[i][j+1]\n",
    "            if j == 2:\n",
    "                domi[i][j-1] = permutation[i][j]\n",
    "                \n",
    "    return domi"
   ]
  },
  {
   "cell_type": "code",
   "execution_count": 6,
   "metadata": {},
   "outputs": [],
   "source": [
    "def get_recessive(permutation):\n",
    "    \n",
    "    resc = np.zeros((2, 2))\n",
    "    for i in range(len(permutation)):\n",
    "        for j in range(len(permutation[i])):\n",
    "            if j == 0:\n",
    "                resc[i][j] = permutation[i][j]\n",
    "            if j == 2:\n",
    "                resc[i][j-1] = permutation[i][j] + permutation[i][j-1]\n",
    "                \n",
    "    return resc"
   ]
  },
  {
   "cell_type": "code",
   "execution_count": 7,
   "metadata": {},
   "outputs": [],
   "source": [
    "def get_pvalue(chi_score_max, chi_score_ori):\n",
    "    \n",
    "    count = 0\n",
    "    for i in chi_score_max:\n",
    "        if i > chi_score_ori:\n",
    "            count += 1\n",
    "            \n",
    "    return count/len(chi_score_max)"
   ]
  },
  {
   "cell_type": "code",
   "execution_count": 8,
   "metadata": {},
   "outputs": [],
   "source": [
    "def get_permutation(genotype,case_control):\n",
    "    \n",
    "    case_control_shuffle = np.random.permutation(case_control)\n",
    "    AA_case = AB_case = BB_case = AA_control = AB_control = BB_control = 0\n",
    "    \n",
    "    for i in range(len(genotype)):\n",
    "        if genotype[i] == \"AA\" and case_control_shuffle[i] == 1:\n",
    "            AA_case += 1\n",
    "        if genotype[i] == \"AB\" and case_control_shuffle[i] == 1:\n",
    "            AB_case += 1\n",
    "        if genotype[i] == \"BB\" and case_control_shuffle[i] == 1:\n",
    "            BB_case += 1\n",
    "        if genotype[i] == \"AA\" and case_control_shuffle[i] == 0:\n",
    "            AA_control += 1\n",
    "        if genotype[i] == \"AB\" and case_control_shuffle[i] == 0:\n",
    "            AB_control += 1\n",
    "        if genotype[i] == \"BB\" and case_control_shuffle[i] == 0:\n",
    "            BB_control += 1\n",
    "            \n",
    "    return [[AA_case, AB_case, BB_case],[AA_control, AB_control, BB_control]]"
   ]
  },
  {
   "cell_type": "code",
   "execution_count": 22,
   "metadata": {},
   "outputs": [
    {
     "name": "stdout",
     "output_type": "stream",
     "text": [
      "0.00897\n"
     ]
    }
   ],
   "source": [
    "# Main program\n",
    "for i in range(int(times)):\n",
    "    \n",
    "    # Permute the original table\n",
    "    permutation = get_permutation(genotype,case_control)\n",
    "\n",
    "    # Get additive chi_score\n",
    "    add = get_additive(permutation)    \n",
    "    chi_score[i][0] = sp.stats.chi2_contingency(add)[0]\n",
    "    \n",
    "    # Get dominant chi_score\n",
    "    dom = get_dominant(permutation)  \n",
    "    chi_score[i][1] = sp.stats.chi2_contingency(dom)[0]\n",
    "\n",
    "    # Get recessive chi_score\n",
    "    res = get_recessive(permutation)\n",
    "    chi_score[i][2] = sp.stats.chi2_contingency(res)[0]\n",
    "    \n",
    "# Calculate max chi_score for each permutation\n",
    "chi_score_max = np.amax(chi_score, axis = 1)\n",
    "\n",
    "# Calculate original chi_score for original data\n",
    "chi_score_ori = max(sp.stats.chi2_contingency(get_additive(Observed))[0],sp.stats.chi2_contingency(get_dominant(Observed))[0],sp.stats.chi2_contingency(get_recessive(Observed))[0])\n",
    "\n",
    "# Calculate p_value\n",
    "p_value = get_pvalue(chi_score_max, chi_score_ori)\n",
    "\n",
    "print(p_value)"
   ]
  },
  {
   "cell_type": "code",
   "execution_count": 35,
   "metadata": {},
   "outputs": [
    {
     "data": {
      "text/plain": [
       "(array([4.1489e+04, 2.0874e+04, 1.1986e+04, 8.0910e+03, 4.8770e+03,\n",
       "        4.6500e+03, 3.0620e+03, 1.2090e+03, 1.1430e+03, 7.4500e+02,\n",
       "        5.7600e+02, 4.0100e+02, 3.0100e+02, 1.4900e+02, 1.4400e+02,\n",
       "        1.1400e+02, 5.6000e+01, 3.8000e+01, 1.7000e+01, 3.9000e+01,\n",
       "        0.0000e+00, 1.6000e+01, 9.0000e+00, 2.0000e+00, 5.0000e+00,\n",
       "        2.0000e+00, 0.0000e+00, 2.0000e+00, 2.0000e+00, 1.0000e+00]),\n",
       " array([ 0.        ,  0.66084837,  1.32169674,  1.98254511,  2.64339348,\n",
       "         3.30424185,  3.96509022,  4.62593859,  5.28678696,  5.94763533,\n",
       "         6.6084837 ,  7.26933208,  7.93018045,  8.59102882,  9.25187719,\n",
       "         9.91272556, 10.57357393, 11.2344223 , 11.89527067, 12.55611904,\n",
       "        13.21696741, 13.87781578, 14.53866415, 15.19951252, 15.86036089,\n",
       "        16.52120926, 17.18205763, 17.842906  , 18.50375437, 19.16460274,\n",
       "        19.82545111]),\n",
       " <a list of 30 Patch objects>)"
      ]
     },
     "execution_count": 35,
     "metadata": {},
     "output_type": "execute_result"
    },
    {
     "data": {
      "image/png": "[encoded data removed]",
      "text/plain": [
       "<Figure size 432x288 with 1 Axes>"
      ]
     },
     "metadata": {
      "needs_background": "light"
     },
     "output_type": "display_data"
    }
   ],
   "source": [
    "# Plot max chi_score, just for fun.\n",
    "import matplotlib.pyplot as plt\n",
    "plt.hist(chi_score_max, bins = 30)"
   ]
  }
 ],
 "metadata": {
  "kernelspec": {
   "display_name": "Python 3",
   "language": "python",
   "name": "python3"
  },
  "language_info": {
   "codemirror_mode": {
    "name": "ipython",
    "version": 3
   },
   "file_extension": ".py",
   "mimetype": "text/x-python",
   "name": "python",
   "nbconvert_exporter": "python",
   "pygments_lexer": "ipython3",
   "version": "3.7.4"
  }
 },
 "nbformat": 4,
 "nbformat_minor": 4
}
