{
 "cells": [
  {
   "cell_type": "code",
   "execution_count": 1,
   "metadata": {},
   "outputs": [],
   "source": [
    "import pandas as pd\n",
    "import json\n",
    "from pandas import DataFrame"
   ]
  },
  {
   "cell_type": "code",
   "execution_count": null,
   "metadata": {},
   "outputs": [],
   "source": [
    "# Load kinase json file and extract kinase gene name\n",
    "\n",
    "data = []\n",
    "number = [\"1\", \"2\", \"3\", \"4\", \"5\", \"6\", \"7\", \"8\", \"9\"]\n",
    "with open('data/hsa01001.json') as json_file:\n",
    "    for line in json_file:\n",
    "        this_line = line.strip()\n",
    "        if len(this_line) <= 2:\n",
    "            continue\n",
    "        if this_line[8] not in number:\n",
    "            continue       \n",
    "        data.append(this_line.split(\" \")[1][0:-1])\n",
    "'PLK1' in data"
   ]
  },
  {
   "cell_type": "code",
   "execution_count": null,
   "metadata": {},
   "outputs": [],
   "source": [
    "# Write kinase gene name to file\n",
    "from pandas import DataFrame\n",
    "df = DataFrame(data,columns=['gene_name'])\n",
    "df.to_csv(r'data/kinase_gene.csv', index = False)"
   ]
  },
  {
   "cell_type": "code",
   "execution_count": null,
   "metadata": {},
   "outputs": [],
   "source": [
    "import pandas as pd\n",
    "kinase_en_xl = pd.read_excel (r'data/kinase_gene_ensbl.xlsx')[\"Ensembl Gene ID\"]\n",
    "kinase_en = sum([i.split(\"; \") for i in kinase_en_xl], [])\n"
   ]
  },
  {
   "cell_type": "code",
   "execution_count": null,
   "metadata": {},
   "outputs": [],
   "source": [
    "deg_os = list(pd.read_excel (r'analysis/DEG_pt_mt_OS.xlsx', sheet_name  = \"Sheet2_q10\")[\"All\"])\n",
    "deg_os_kinase = DataFrame(set(kinase_en).intersection(deg_os), columns = [\"DEG_OS_Kinase\"])\n",
    "deg_os_kinase.to_csv(r'analysis/DEG_OS_Kinase.csv')"
   ]
  },
  {
   "cell_type": "code",
   "execution_count": null,
   "metadata": {},
   "outputs": [],
   "source": [
    "deg_os_q5 = list(pd.read_excel (r'analysis/DEG_pt_mt_OS.xlsx', sheet_name  = \"Sheet3_q5\")[\"All\"])\n",
    "deg_os_kinase_q5 = DataFrame(set(kinase_en).intersection(deg_os_q5), columns = [\"DEG_OS_Kinase\"])\n",
    "deg_os_kinase_q5.to_csv(r'analysis/DEG_OS_Kinase_Q5.csv')"
   ]
  },
  {
   "cell_type": "code",
   "execution_count": null,
   "metadata": {},
   "outputs": [],
   "source": [
    "# Find genes that are both significant in deg and os\n",
    "# OS cutoff: 0.05\n",
    "deg = pd.read_excel (r'analysis/DEG_pt_mt_OS.xlsx', sheet_name  = \"DEG\")\n",
    "os = pd.read_excel (r'analysis/DEG_pt_mt_OS.xlsx', sheet_name  = \"OS_q5\")"
   ]
  },
  {
   "cell_type": "code",
   "execution_count": null,
   "metadata": {},
   "outputs": [],
   "source": [
    "deg_gene = deg[\"gene_name\"]\n",
    "os_gene = os[\"gene_name\"]"
   ]
  },
  {
   "cell_type": "code",
   "execution_count": null,
   "metadata": {},
   "outputs": [],
   "source": [
    "deg_os_gene = set(deg_gene).intersection(os_gene)"
   ]
  },
  {
   "cell_type": "code",
   "execution_count": null,
   "metadata": {},
   "outputs": [],
   "source": [
    "deg_os_kinase_gene = set(deg_os_gene).intersection(kinase_en)"
   ]
  },
  {
   "cell_type": "code",
   "execution_count": null,
   "metadata": {},
   "outputs": [],
   "source": [
    "DataFrame(deg_os_kinase_gene).to_csv(r'analysis/DEG_OS_Kinase_Q5.csv')"
   ]
  },
  {
   "cell_type": "code",
   "execution_count": null,
   "metadata": {},
   "outputs": [],
   "source": [
    "# OS cutoff: 0.1\n",
    "os_10 = pd.read_excel (r'analysis/DEG_pt_mt_OS.xlsx', sheet_name  = \"OS_q10\")\n",
    "os_10_gene = os_10[\"gene_name\"]"
   ]
  },
  {
   "cell_type": "code",
   "execution_count": null,
   "metadata": {},
   "outputs": [],
   "source": [
    "deg_os_10_gene = set(deg_gene).intersection(os_10_gene)"
   ]
  },
  {
   "cell_type": "code",
   "execution_count": null,
   "metadata": {},
   "outputs": [],
   "source": [
    "deg_os_10_kinase_gene = set(deg_os_10_gene).intersection(kinase_en)"
   ]
  },
  {
   "cell_type": "code",
   "execution_count": null,
   "metadata": {},
   "outputs": [],
   "source": [
    "deg_os_10_kinase_gene"
   ]
  },
  {
   "cell_type": "code",
   "execution_count": null,
   "metadata": {},
   "outputs": [],
   "source": [
    "# Make both deg and os file\n",
    "deg_common = deg[deg['gene_name'].isin(deg_os_gene)]\n",
    "os_common = os[os['gene_name'].isin(deg_os_gene)]"
   ]
  },
  {
   "cell_type": "code",
   "execution_count": null,
   "metadata": {},
   "outputs": [],
   "source": [
    "common = pd.merge(deg_common, os_common, on=['gene_name'])"
   ]
  },
  {
   "cell_type": "code",
   "execution_count": null,
   "metadata": {},
   "outputs": [],
   "source": [
    "common.to_csv(r'analysis/DEG_OS.csv')"
   ]
  },
  {
   "cell_type": "code",
   "execution_count": null,
   "metadata": {},
   "outputs": [],
   "source": [
    "deg[deg[\"gene_name\"].isin([\"ENSG00000132692\"])]"
   ]
  },
  {
   "cell_type": "code",
   "execution_count": null,
   "metadata": {},
   "outputs": [],
   "source": [
    "os[os[\"gene_name\"].isin([\"ENSG00000132692\"])]"
   ]
  },
  {
   "cell_type": "code",
   "execution_count": 209,
   "metadata": {},
   "outputs": [],
   "source": [
    "# Find DEG and OSbtwn gtex and pt\n",
    "deg_pt = pd.read_excel('analysis/DEG_gtex_pt_OS.xlsx', sheet_name = 'DEG')"
   ]
  },
  {
   "cell_type": "code",
   "execution_count": 213,
   "metadata": {},
   "outputs": [],
   "source": [
    "deg_pt_os_gene = set(deg_pt['gene_name']).intersection(os_gene)"
   ]
  },
  {
   "cell_type": "code",
   "execution_count": 219,
   "metadata": {},
   "outputs": [],
   "source": [
    "deg_pt_common = deg_pt[deg_pt['gene_name'].isin(deg_pt_os_gene)]\n",
    "os_pt_common = os[os['gene_name'].isin(deg_pt_os_gene)]\n",
    "pt_common = pd.merge(deg_pt_common, os_pt_common, on=['gene_name'])\n",
    "pt_common.to_csv(r'analysis/DEG_OS_getx_pt.csv')"
   ]
  },
  {
   "cell_type": "code",
   "execution_count": 208,
   "metadata": {},
   "outputs": [],
   "source": [
    "# Extract PLK4 in primary tumor and normal\n",
    "Plk4_ensg = \"ENSG00000142731\"\n",
    "skin_gtex = pd.read_csv('data/skin_gtex_normal_recount.csv')"
   ]
  },
  {
   "cell_type": "code",
   "execution_count": null,
   "metadata": {},
   "outputs": [],
   "source": [
    "Plk4_gtex = skin_gtex[skin_gtex[\"Unnamed: 0\"].isin([Plk4_ensg])].T\n",
    "Plk4_gtex[\"Type\"] = [\"Normal\"]*Plk4_gtex.shape[0]\n",
    "Plk4_gtex.drop(Plk4_gtex.index[:1], inplace=True)\n",
    "Plk4_gtex.columns.values[0] = \"Count\""
   ]
  },
  {
   "cell_type": "code",
   "execution_count": null,
   "metadata": {},
   "outputs": [],
   "source": [
    "# Extract PLK4 in primary tumor"
   ]
  },
  {
   "cell_type": "code",
   "execution_count": null,
   "metadata": {},
   "outputs": [],
   "source": [
    "skin_pt = pd.read_csv('data/skin_tcga_primarytumor_recount.csv')"
   ]
  },
  {
   "cell_type": "code",
   "execution_count": null,
   "metadata": {},
   "outputs": [],
   "source": [
    "Plk4_pt = skin_pt[skin_pt[\"Unnamed: 0\"].isin([Plk4_ensg+\".10\"])].T\n",
    "Plk4_pt[\"Type\"] = [\"Primary\"]*Plk4_pt.shape[0]\n",
    "Plk4_pt.drop(Plk4_pt.index[:1], inplace=True)\n",
    "Plk4_pt.columns.values[0] = \"Count\""
   ]
  },
  {
   "cell_type": "code",
   "execution_count": null,
   "metadata": {},
   "outputs": [],
   "source": [
    "# Extract PLK4 in metastatic\n",
    "skin_mt = pd.read_csv('data/skin_tcga_cancer_metastasis.csv')\n",
    "Plk4_mt = skin_mt[skin_mt[\"Unnamed: 0\"].isin([Plk4_ensg+\".10\"])].T\n",
    "Plk4_mt[\"Type\"] = [\"Metastasis\"]*Plk4_mt.shape[0]\n",
    "Plk4_mt.drop(Plk4_mt.index[:1], inplace=True)\n",
    "Plk4_mt.columns.values[0] = \"Count\""
   ]
  },
  {
   "cell_type": "code",
   "execution_count": null,
   "metadata": {},
   "outputs": [],
   "source": [
    "# Combine PLK4 pt and normal\n",
    "Plk4_gtex_pt_mt = Plk4_gtex.append(Plk4_pt).append(Plk4_mt)\n",
    "Plk4_gtex_pt_mt.to_csv(r'data/PLK4_gtex_pt_mt.csv's)"
   ]
  },
  {
   "cell_type": "code",
   "execution_count": null,
   "metadata": {},
   "outputs": [],
   "source": [
    "# Overall this doesn't work because it is not normalized."
   ]
  },
  {
   "cell_type": "code",
   "execution_count": null,
   "metadata": {},
   "outputs": [],
   "source": [
    "'''\n",
    "The following code deals with finding intersection of GO:0002682 and genes of mt and os\n",
    "'''"
   ]
  },
  {
   "cell_type": "code",
   "execution_count": 2,
   "metadata": {},
   "outputs": [],
   "source": [
    "GO_gene = list(pd.read_excel (r'analysis/GO_Analysis/pt_os_go.xlsx', sheet_name  = \"Find_Match\")[\"Ensembl Gene ID\"])\n",
    "\n",
    "mt_os_gene = list(pd.read_excel (r'analysis/GO_Analysis/pt_os_go.xlsx', sheet_name  = \"Find_Match\")[\"gene_name\"])"
   ]
  },
  {
   "cell_type": "code",
   "execution_count": 6,
   "metadata": {},
   "outputs": [],
   "source": [
    "GO_gene_split = sum([i.split(\"; \") for i in GO_gene if len(i) > 1], [])\n"
   ]
  },
  {
   "cell_type": "code",
   "execution_count": 8,
   "metadata": {},
   "outputs": [],
   "source": [
    "GO_mtos = set(GO_gene_split).intersection(mt_os_gene)"
   ]
  },
  {
   "cell_type": "code",
   "execution_count": 10,
   "metadata": {},
   "outputs": [
    {
     "data": {
      "text/plain": [
       "62"
      ]
     },
     "execution_count": 10,
     "metadata": {},
     "output_type": "execute_result"
    }
   ],
   "source": [
    "len(GO_mtos)"
   ]
  },
  {
   "cell_type": "code",
   "execution_count": 11,
   "metadata": {},
   "outputs": [
    {
     "data": {
      "text/plain": [
       "{'ENSG00000004468',\n",
       " 'ENSG00000005844',\n",
       " 'ENSG00000010610',\n",
       " 'ENSG00000066294',\n",
       " 'ENSG00000069011',\n",
       " 'ENSG00000073861',\n",
       " 'ENSG00000085265',\n",
       " 'ENSG00000089692',\n",
       " 'ENSG00000101347',\n",
       " 'ENSG00000101916',\n",
       " 'ENSG00000102879',\n",
       " 'ENSG00000104972',\n",
       " 'ENSG00000105246',\n",
       " 'ENSG00000109943',\n",
       " 'ENSG00000121594',\n",
       " 'ENSG00000121807',\n",
       " 'ENSG00000122188',\n",
       " 'ENSG00000123338',\n",
       " 'ENSG00000125384',\n",
       " 'ENSG00000128271',\n",
       " 'ENSG00000129455',\n",
       " 'ENSG00000131042',\n",
       " 'ENSG00000132514',\n",
       " 'ENSG00000134460',\n",
       " 'ENSG00000137078',\n",
       " 'ENSG00000139193',\n",
       " 'ENSG00000141968',\n",
       " 'ENSG00000143546',\n",
       " 'ENSG00000143556',\n",
       " 'ENSG00000153563',\n",
       " 'ENSG00000154451',\n",
       " 'ENSG00000155307',\n",
       " 'ENSG00000156234',\n",
       " 'ENSG00000157404',\n",
       " 'ENSG00000158473',\n",
       " 'ENSG00000159189',\n",
       " 'ENSG00000160185',\n",
       " 'ENSG00000160255',\n",
       " 'ENSG00000161929',\n",
       " 'ENSG00000162739',\n",
       " 'ENSG00000163220',\n",
       " 'ENSG00000165272',\n",
       " 'ENSG00000167613',\n",
       " 'ENSG00000167850',\n",
       " 'ENSG00000170476',\n",
       " 'ENSG00000172116',\n",
       " 'ENSG00000172673',\n",
       " 'ENSG00000173369',\n",
       " 'ENSG00000173372',\n",
       " 'ENSG00000174885',\n",
       " 'ENSG00000174946',\n",
       " 'ENSG00000181847',\n",
       " 'ENSG00000182866',\n",
       " 'ENSG00000183918',\n",
       " 'ENSG00000184293',\n",
       " 'ENSG00000184330',\n",
       " 'ENSG00000186074',\n",
       " 'ENSG00000186818',\n",
       " 'ENSG00000188389',\n",
       " 'ENSG00000203747',\n",
       " 'ENSG00000204252',\n",
       " 'ENSG00000206073'}"
      ]
     },
     "execution_count": 11,
     "metadata": {},
     "output_type": "execute_result"
    }
   ],
   "source": [
    "GO_mtos"
   ]
  },
  {
   "cell_type": "code",
   "execution_count": null,
   "metadata": {},
   "outputs": [],
   "source": []
  }
 ],
 "metadata": {
  "kernelspec": {
   "display_name": "Python 3",
   "language": "python",
   "name": "python3"
  },
  "language_info": {
   "codemirror_mode": {
    "name": "ipython",
    "version": 3
   },
   "file_extension": ".py",
   "mimetype": "text/x-python",
   "name": "python",
   "nbconvert_exporter": "python",
   "pygments_lexer": "ipython3",
   "version": "3.7.6"
  }
 },
 "nbformat": 4,
 "nbformat_minor": 4
}
